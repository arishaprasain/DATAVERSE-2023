{
 "cells": [
  {
   "cell_type": "code",
   "execution_count": 1,
   "id": "5626da8d",
   "metadata": {
    "_cell_guid": "b1076dfc-b9ad-4769-8c92-a6c4dae69d19",
    "_uuid": "8f2839f25d086af736a60e9eeb907d3b93b6e0e5",
    "execution": {
     "iopub.execute_input": "2023-01-22T11:43:28.867840Z",
     "iopub.status.busy": "2023-01-22T11:43:28.867120Z",
     "iopub.status.idle": "2023-01-22T11:43:28.891440Z",
     "shell.execute_reply": "2023-01-22T11:43:28.890388Z"
    },
    "papermill": {
     "duration": 0.037471,
     "end_time": "2023-01-22T11:43:28.894953",
     "exception": false,
     "start_time": "2023-01-22T11:43:28.857482",
     "status": "completed"
    },
    "tags": []
   },
   "outputs": [
    {
     "name": "stdout",
     "output_type": "stream",
     "text": [
      "/kaggle/input/datarush-2023/sample_submission.csv\n",
      "/kaggle/input/datarush-2023/train.csv\n",
      "/kaggle/input/datarush-2023/test.csv\n",
      "/kaggle/input/datarush-2023/dataset/dataset/sample_submission.csv\n",
      "/kaggle/input/datarush-2023/dataset/dataset/train.csv\n",
      "/kaggle/input/datarush-2023/dataset/dataset/test.csv\n"
     ]
    }
   ],
   "source": [
    "#### This Python 3 environment comes with many helpful analytics libraries installed\n",
    "# It is defined by the kaggle/python Docker image: https://github.com/kaggle/docker-python\n",
    "# For example, here's several helpful packages to load\n",
    "\n",
    "import numpy as np # linear algebra\n",
    "import pandas as pd # data processing, CSV file I/O (e.g. pd.read_csv)\n",
    "\n",
    "# Input data files are available in the read-only \"../input/\" directory\n",
    "# For example, running this (by clicking run or pressing Shift+Enter) will list all files under the input directory\n",
    "\n",
    "import os\n",
    "for dirname, _, filenames in os.walk('/kaggle/input'):\n",
    "    for filename in filenames:\n",
    "        print(os.path.join(dirname, filename))\n",
    "\n",
    "# You can write up to 20GB to the current directory (/kaggle/working/) that gets preserved as output when you create a version using \"Save & Run All\" \n",
    "# You can also write temporary files to /kaggle/temp/, but they won't be saved outside of the current session"
   ]
  },
  {
   "cell_type": "code",
   "execution_count": 2,
   "id": "4bcf6866",
   "metadata": {
    "execution": {
     "iopub.execute_input": "2023-01-22T11:43:28.912498Z",
     "iopub.status.busy": "2023-01-22T11:43:28.911648Z",
     "iopub.status.idle": "2023-01-22T11:43:51.191376Z",
     "shell.execute_reply": "2023-01-22T11:43:51.190175Z"
    },
    "papermill": {
     "duration": 22.290822,
     "end_time": "2023-01-22T11:43:51.194096",
     "exception": false,
     "start_time": "2023-01-22T11:43:28.903274",
     "status": "completed"
    },
    "tags": []
   },
   "outputs": [],
   "source": [
    "df1=pd.read_csv(\"/kaggle/input/datarush-2023/train.csv\")\n",
    "df2=pd.read_csv(\"/kaggle/input/datarush-2023/test.csv\")\n"
   ]
  },
  {
   "cell_type": "code",
   "execution_count": 3,
   "id": "284529a3",
   "metadata": {
    "execution": {
     "iopub.execute_input": "2023-01-22T11:43:51.210116Z",
     "iopub.status.busy": "2023-01-22T11:43:51.209607Z",
     "iopub.status.idle": "2023-01-22T11:43:51.498350Z",
     "shell.execute_reply": "2023-01-22T11:43:51.496935Z"
    },
    "papermill": {
     "duration": 0.29976,
     "end_time": "2023-01-22T11:43:51.500993",
     "exception": false,
     "start_time": "2023-01-22T11:43:51.201233",
     "status": "completed"
    },
    "tags": []
   },
   "outputs": [
    {
     "name": "stdout",
     "output_type": "stream",
     "text": [
      "<class 'pandas.core.frame.DataFrame'>\n",
      "RangeIndex: 861236 entries, 0 to 861235\n",
      "Data columns (total 4 columns):\n",
      " #   Column    Non-Null Count   Dtype \n",
      "---  ------    --------------   ----- \n",
      " 0   id        861236 non-null  object\n",
      " 1   title     861236 non-null  object\n",
      " 2   abstract  861236 non-null  object\n",
      " 3   category  861232 non-null  object\n",
      "dtypes: object(4)\n",
      "memory usage: 26.3+ MB\n"
     ]
    }
   ],
   "source": [
    "#lets do EDA for train data\n",
    "df1.info()"
   ]
  },
  {
   "cell_type": "code",
   "execution_count": 4,
   "id": "1d151959",
   "metadata": {
    "execution": {
     "iopub.execute_input": "2023-01-22T11:43:51.517819Z",
     "iopub.status.busy": "2023-01-22T11:43:51.516405Z",
     "iopub.status.idle": "2023-01-22T11:43:51.543465Z",
     "shell.execute_reply": "2023-01-22T11:43:51.541912Z"
    },
    "papermill": {
     "duration": 0.038112,
     "end_time": "2023-01-22T11:43:51.546218",
     "exception": false,
     "start_time": "2023-01-22T11:43:51.508106",
     "status": "completed"
    },
    "tags": []
   },
   "outputs": [
    {
     "name": "stdout",
     "output_type": "stream",
     "text": [
      "<class 'pandas.core.frame.DataFrame'>\n",
      "RangeIndex: 43785 entries, 0 to 43784\n",
      "Data columns (total 4 columns):\n",
      " #   Column    Non-Null Count  Dtype \n",
      "---  ------    --------------  ----- \n",
      " 0   id        43785 non-null  object\n",
      " 1   title     43785 non-null  object\n",
      " 2   abstract  43785 non-null  object\n",
      " 3   category  43785 non-null  object\n",
      "dtypes: object(4)\n",
      "memory usage: 1.3+ MB\n"
     ]
    }
   ],
   "source": [
    "df2.info()"
   ]
  },
  {
   "cell_type": "code",
   "execution_count": 5,
   "id": "52f17728",
   "metadata": {
    "execution": {
     "iopub.execute_input": "2023-01-22T11:43:51.562301Z",
     "iopub.status.busy": "2023-01-22T11:43:51.561907Z",
     "iopub.status.idle": "2023-01-22T11:43:51.625665Z",
     "shell.execute_reply": "2023-01-22T11:43:51.624812Z"
    },
    "papermill": {
     "duration": 0.074425,
     "end_time": "2023-01-22T11:43:51.627830",
     "exception": false,
     "start_time": "2023-01-22T11:43:51.553405",
     "status": "completed"
    },
    "tags": []
   },
   "outputs": [
    {
     "data": {
      "text/plain": [
       "array(['cs', 'math', 'physics', 'eess', 'cond-mat', 'q-bio', 'stat',\n",
       "       'hep-ph', 'math-ph', 'hep-th', 'astro-ph', 'gr-qc', 'nlin',\n",
       "       'quant-ph', 'nucl-th', 'q-fin', 'nucl-ex', 'hep-ex', 'econ',\n",
       "       'hep-lat', 'funct-an', nan, 'alg-geom', 'q-alg'], dtype=object)"
      ]
     },
     "execution_count": 5,
     "metadata": {},
     "output_type": "execute_result"
    }
   ],
   "source": [
    "df1['category'].unique()"
   ]
  },
  {
   "cell_type": "code",
   "execution_count": 6,
   "id": "b4a8e649",
   "metadata": {
    "execution": {
     "iopub.execute_input": "2023-01-22T11:43:51.645198Z",
     "iopub.status.busy": "2023-01-22T11:43:51.644462Z",
     "iopub.status.idle": "2023-01-22T11:43:51.655545Z",
     "shell.execute_reply": "2023-01-22T11:43:51.654350Z"
    },
    "papermill": {
     "duration": 0.023618,
     "end_time": "2023-01-22T11:43:51.658693",
     "exception": false,
     "start_time": "2023-01-22T11:43:51.635075",
     "status": "completed"
    },
    "tags": []
   },
   "outputs": [
    {
     "data": {
      "text/plain": [
       "array(['q-fin', 'cond-mat', 'math', 'cs', 'stat', 'eess', 'astro-ph',\n",
       "       'gr-qc', 'nucl-th', 'physics', 'quant-ph', 'hep-ph', 'hep-th',\n",
       "       'hep-ex', 'hep-lat', 'math-ph', 'econ', 'q-bio', 'nucl-ex', 'nlin'],\n",
       "      dtype=object)"
      ]
     },
     "execution_count": 6,
     "metadata": {},
     "output_type": "execute_result"
    }
   ],
   "source": [
    "df2['category'].unique()"
   ]
  },
  {
   "cell_type": "code",
   "execution_count": 7,
   "id": "887133fa",
   "metadata": {
    "execution": {
     "iopub.execute_input": "2023-01-22T11:43:51.677278Z",
     "iopub.status.busy": "2023-01-22T11:43:51.676132Z",
     "iopub.status.idle": "2023-01-22T11:43:51.721973Z",
     "shell.execute_reply": "2023-01-22T11:43:51.720802Z"
    },
    "papermill": {
     "duration": 0.056752,
     "end_time": "2023-01-22T11:43:51.724483",
     "exception": false,
     "start_time": "2023-01-22T11:43:51.667731",
     "status": "completed"
    },
    "tags": []
   },
   "outputs": [
    {
     "data": {
      "text/plain": [
       "4"
      ]
     },
     "execution_count": 7,
     "metadata": {},
     "output_type": "execute_result"
    }
   ],
   "source": [
    "#clean the dataset for null value\n",
    "#Check for any null value in the target variable\n",
    "np.sum(df1['category'].isnull())"
   ]
  },
  {
   "cell_type": "code",
   "execution_count": 8,
   "id": "7e311f98",
   "metadata": {
    "execution": {
     "iopub.execute_input": "2023-01-22T11:43:51.741407Z",
     "iopub.status.busy": "2023-01-22T11:43:51.740706Z",
     "iopub.status.idle": "2023-01-22T11:43:52.153274Z",
     "shell.execute_reply": "2023-01-22T11:43:52.152242Z"
    },
    "papermill": {
     "duration": 0.424264,
     "end_time": "2023-01-22T11:43:52.156109",
     "exception": false,
     "start_time": "2023-01-22T11:43:51.731845",
     "status": "completed"
    },
    "tags": []
   },
   "outputs": [],
   "source": [
    "df1.dropna(axis=0, inplace=True)\n"
   ]
  },
  {
   "cell_type": "code",
   "execution_count": 9,
   "id": "099fb1e3",
   "metadata": {
    "execution": {
     "iopub.execute_input": "2023-01-22T11:43:52.172556Z",
     "iopub.status.busy": "2023-01-22T11:43:52.172163Z",
     "iopub.status.idle": "2023-01-22T11:43:52.216279Z",
     "shell.execute_reply": "2023-01-22T11:43:52.215033Z"
    },
    "papermill": {
     "duration": 0.055293,
     "end_time": "2023-01-22T11:43:52.218904",
     "exception": false,
     "start_time": "2023-01-22T11:43:52.163611",
     "status": "completed"
    },
    "tags": []
   },
   "outputs": [
    {
     "data": {
      "text/plain": [
       "0"
      ]
     },
     "execution_count": 9,
     "metadata": {},
     "output_type": "execute_result"
    }
   ],
   "source": [
    "np.sum(df1['category'].isnull())"
   ]
  },
  {
   "cell_type": "markdown",
   "id": "c27eecc7",
   "metadata": {
    "papermill": {
     "duration": 0.00724,
     "end_time": "2023-01-22T11:43:52.233674",
     "exception": false,
     "start_time": "2023-01-22T11:43:52.226434",
     "status": "completed"
    },
    "tags": []
   },
   "source": [
    "Data pre-processing\n",
    "Before training the model, we will perform various pre-processing steps on the dataset such as:\n",
    "\n",
    "\n",
    "Converting the text document to lowercase for better generalization.\n",
    "Removing stop words.\n",
    "Cleaning the punctuation (to reduce unnecessary noise from the dataset).\n",
    "Removing the repeating characters from the words \n",
    "Removing the URLs as they do not have any significant importance.\n",
    "\n",
    "and much more, we will see this in detail later..."
   ]
  },
  {
   "cell_type": "code",
   "execution_count": 10,
   "id": "309cf5df",
   "metadata": {
    "execution": {
     "iopub.execute_input": "2023-01-22T11:43:52.250684Z",
     "iopub.status.busy": "2023-01-22T11:43:52.249940Z",
     "iopub.status.idle": "2023-01-22T11:43:55.021139Z",
     "shell.execute_reply": "2023-01-22T11:43:55.019840Z"
    },
    "papermill": {
     "duration": 2.783147,
     "end_time": "2023-01-22T11:43:55.024251",
     "exception": false,
     "start_time": "2023-01-22T11:43:52.241104",
     "status": "completed"
    },
    "tags": []
   },
   "outputs": [],
   "source": [
    "# Making statement text, and abstract in lower case :\n",
    "df1['title'] = df1['title'].str.lower()\n",
    "df1['abstract'] = df1['abstract'].str.lower()\n",
    "df2['title'] = df2['title'].str.lower()\n",
    "df2['abstract'] = df2['abstract'].str.lower()\n",
    "\n"
   ]
  },
  {
   "cell_type": "code",
   "execution_count": 11,
   "id": "1e262a0d",
   "metadata": {
    "execution": {
     "iopub.execute_input": "2023-01-22T11:43:55.042601Z",
     "iopub.status.busy": "2023-01-22T11:43:55.042125Z",
     "iopub.status.idle": "2023-01-22T11:44:06.436885Z",
     "shell.execute_reply": "2023-01-22T11:44:06.435502Z"
    },
    "papermill": {
     "duration": 11.407761,
     "end_time": "2023-01-22T11:44:06.440167",
     "exception": false,
     "start_time": "2023-01-22T11:43:55.032406",
     "status": "completed"
    },
    "tags": []
   },
   "outputs": [],
   "source": [
    "   #  Cleaning and removing punctuations :\n",
    "import string\n",
    "import re\n",
    "\n",
    "english_punctuations = string.punctuation\n",
    "punctuations_list = english_punctuations\n",
    "\n",
    "def cleaning_punctuations(text):\n",
    "    translator = str.maketrans('', '', punctuations_list)\n",
    "    return text.translate(translator)\n",
    "\n",
    "\n",
    "df1['title'] = df1['title'].apply(lambda x: cleaning_punctuations(x))\n",
    "df1['abstract'] = df1['abstract'].apply(lambda x: cleaning_punctuations(x))\n",
    "df2['title'] = df2['title'].apply(lambda x: cleaning_punctuations(x))\n",
    "df2['abstract'] = df2['abstract'].apply(lambda x: cleaning_punctuations(x))\n"
   ]
  },
  {
   "cell_type": "code",
   "execution_count": 12,
   "id": "b26fd412",
   "metadata": {
    "execution": {
     "iopub.execute_input": "2023-01-22T11:44:06.458300Z",
     "iopub.status.busy": "2023-01-22T11:44:06.457842Z",
     "iopub.status.idle": "2023-01-22T11:44:36.640923Z",
     "shell.execute_reply": "2023-01-22T11:44:36.639393Z"
    },
    "papermill": {
     "duration": 30.195208,
     "end_time": "2023-01-22T11:44:36.643754",
     "exception": false,
     "start_time": "2023-01-22T11:44:06.448546",
     "status": "completed"
    },
    "tags": []
   },
   "outputs": [],
   "source": [
    "# Cleaning and removing repeating characters :\n",
    "def cleaning_repeating_char(text):\n",
    "    return re.sub(r'(.)1+', r'1', text)\n",
    "\n",
    "\n",
    "df1['title'] = df1['title'].apply(lambda x: cleaning_repeating_char(x))\n",
    "df1['abstract'] = df1['abstract'].apply(lambda x: cleaning_repeating_char(x))\n",
    "df2['title'] = df2['title'].apply(lambda x: cleaning_repeating_char(x))\n",
    "df2['abstract'] = df2['abstract'].apply(lambda x: cleaning_repeating_char(x))\n"
   ]
  },
  {
   "cell_type": "code",
   "execution_count": 13,
   "id": "3f8bd6a3",
   "metadata": {
    "execution": {
     "iopub.execute_input": "2023-01-22T11:44:36.661390Z",
     "iopub.status.busy": "2023-01-22T11:44:36.660964Z",
     "iopub.status.idle": "2023-01-22T11:45:01.019792Z",
     "shell.execute_reply": "2023-01-22T11:45:01.018649Z"
    },
    "papermill": {
     "duration": 24.371365,
     "end_time": "2023-01-22T11:45:01.022898",
     "exception": false,
     "start_time": "2023-01-22T11:44:36.651533",
     "status": "completed"
    },
    "tags": []
   },
   "outputs": [],
   "source": [
    "# Cleaning and removing Numeric numbers :\n",
    "def cleaning_numbers(data):\n",
    "    return re.sub('[0-9]+', '', data)\n",
    "\n",
    "df1['title'] = df1['title'].apply(lambda x: cleaning_numbers(x))\n",
    "df1['abstract'] = df1['abstract'].apply(lambda x: cleaning_numbers(x))\n",
    "df2['title'] = df2['title'].apply(lambda x: cleaning_numbers(x))\n",
    "df2['abstract'] = df2['abstract'].apply(lambda x: cleaning_numbers(x))\n"
   ]
  },
  {
   "cell_type": "code",
   "execution_count": 14,
   "id": "e8931c79",
   "metadata": {
    "execution": {
     "iopub.execute_input": "2023-01-22T11:45:01.040092Z",
     "iopub.status.busy": "2023-01-22T11:45:01.039683Z",
     "iopub.status.idle": "2023-01-22T11:45:01.047618Z",
     "shell.execute_reply": "2023-01-22T11:45:01.046336Z"
    },
    "papermill": {
     "duration": 0.019569,
     "end_time": "2023-01-22T11:45:01.050228",
     "exception": false,
     "start_time": "2023-01-22T11:45:01.030659",
     "status": "completed"
    },
    "tags": []
   },
   "outputs": [],
   "source": [
    "df1=df1.head(100000)"
   ]
  },
  {
   "cell_type": "code",
   "execution_count": 15,
   "id": "99a77ac2",
   "metadata": {
    "execution": {
     "iopub.execute_input": "2023-01-22T11:45:01.067684Z",
     "iopub.status.busy": "2023-01-22T11:45:01.066437Z",
     "iopub.status.idle": "2023-01-22T11:46:51.804289Z",
     "shell.execute_reply": "2023-01-22T11:46:51.803053Z"
    },
    "papermill": {
     "duration": 110.749422,
     "end_time": "2023-01-22T11:46:51.807132",
     "exception": false,
     "start_time": "2023-01-22T11:45:01.057710",
     "status": "completed"
    },
    "tags": []
   },
   "outputs": [],
   "source": [
    "# Getting tokenization of text in title and abstract  :\n",
    "from nltk.tokenize import word_tokenize\n",
    "\n",
    "df1['title'] = df1['title'].apply(word_tokenize)\n",
    "df1['abstract'] = df1['abstract'].apply(word_tokenize)\n",
    "df2['title'] = df2['title'].apply(word_tokenize)\n",
    "df2['abstract'] = df2['abstract'].apply(word_tokenize)\n",
    "\n"
   ]
  },
  {
   "cell_type": "code",
   "execution_count": 16,
   "id": "1586ec40",
   "metadata": {
    "execution": {
     "iopub.execute_input": "2023-01-22T11:46:51.825002Z",
     "iopub.status.busy": "2023-01-22T11:46:51.824532Z",
     "iopub.status.idle": "2023-01-22T11:56:15.288498Z",
     "shell.execute_reply": "2023-01-22T11:56:15.287116Z"
    },
    "papermill": {
     "duration": 563.476579,
     "end_time": "2023-01-22T11:56:15.291524",
     "exception": false,
     "start_time": "2023-01-22T11:46:51.814945",
     "status": "completed"
    },
    "tags": []
   },
   "outputs": [],
   "source": [
    "\n",
    "df2['title'] = df1['title'].apply(lambda x: stemming_on_text(x))\n",
    "df2['abstract'] = df2['abstract'].apply(lambda x: stemming_on_text(x))\n",
    "\n"
   ]
  },
  {
   "cell_type": "code",
   "execution_count": 17,
   "id": "d7d9c413",
   "metadata": {
    "execution": {
     "iopub.execute_input": "2023-01-22T11:56:15.311255Z",
     "iopub.status.busy": "2023-01-22T11:56:15.310383Z",
     "iopub.status.idle": "2023-01-22T11:56:15.355493Z",
     "shell.execute_reply": "2023-01-22T11:56:15.354431Z"
    },
    "papermill": {
     "duration": 0.05889,
     "end_time": "2023-01-22T11:56:15.358104",
     "exception": false,
     "start_time": "2023-01-22T11:56:15.299214",
     "status": "completed"
    },
    "tags": []
   },
   "outputs": [],
   "source": [
    "from sklearn.preprocessing import LabelEncoder\n",
    "le = LabelEncoder()\n",
    "y = le.fit_transform(df1.category)\n",
    "y2 = le.transform(df2.category)\n",
    "\n"
   ]
  },
  {
   "cell_type": "code",
   "execution_count": 18,
   "id": "cceff23a",
   "metadata": {
    "execution": {
     "iopub.execute_input": "2023-01-22T11:56:15.374747Z",
     "iopub.status.busy": "2023-01-22T11:56:15.374273Z",
     "iopub.status.idle": "2023-01-22T11:56:17.115675Z",
     "shell.execute_reply": "2023-01-22T11:56:17.114751Z"
    },
    "papermill": {
     "duration": 1.752501,
     "end_time": "2023-01-22T11:56:17.118036",
     "exception": false,
     "start_time": "2023-01-22T11:56:15.365535",
     "status": "completed"
    },
    "tags": []
   },
   "outputs": [],
   "source": [
    "df1['text']=df1['title']+df1['abstract']"
   ]
  },
  {
   "cell_type": "code",
   "execution_count": 19,
   "id": "f4064e57",
   "metadata": {
    "execution": {
     "iopub.execute_input": "2023-01-22T11:56:17.134224Z",
     "iopub.status.busy": "2023-01-22T11:56:17.133844Z",
     "iopub.status.idle": "2023-01-22T11:56:17.456229Z",
     "shell.execute_reply": "2023-01-22T11:56:17.454945Z"
    },
    "papermill": {
     "duration": 0.333566,
     "end_time": "2023-01-22T11:56:17.458886",
     "exception": false,
     "start_time": "2023-01-22T11:56:17.125320",
     "status": "completed"
    },
    "tags": []
   },
   "outputs": [],
   "source": [
    "df2['text']=df2['title']+df2['abstract']"
   ]
  },
  {
   "cell_type": "code",
   "execution_count": null,
   "id": "96788bbd",
   "metadata": {
    "execution": {
     "iopub.execute_input": "2023-01-22T10:10:23.530929Z",
     "iopub.status.busy": "2023-01-22T10:10:23.530085Z",
     "iopub.status.idle": "2023-01-22T10:10:23.537194Z",
     "shell.execute_reply": "2023-01-22T10:10:23.536367Z",
     "shell.execute_reply.started": "2023-01-22T10:10:23.530888Z"
    },
    "papermill": {
     "duration": 0.007016,
     "end_time": "2023-01-22T11:56:17.473194",
     "exception": false,
     "start_time": "2023-01-22T11:56:17.466178",
     "status": "completed"
    },
    "tags": []
   },
   "outputs": [],
   "source": []
  },
  {
   "cell_type": "code",
   "execution_count": 20,
   "id": "86b65f12",
   "metadata": {
    "execution": {
     "iopub.execute_input": "2023-01-22T11:56:17.489290Z",
     "iopub.status.busy": "2023-01-22T11:56:17.488883Z",
     "iopub.status.idle": "2023-01-22T11:57:25.560413Z",
     "shell.execute_reply": "2023-01-22T11:57:25.559228Z"
    },
    "papermill": {
     "duration": 68.082746,
     "end_time": "2023-01-22T11:57:25.563168",
     "exception": false,
     "start_time": "2023-01-22T11:56:17.480422",
     "status": "completed"
    },
    "tags": []
   },
   "outputs": [],
   "source": [
    "from sklearn.feature_extraction.text import TfidfVectorizer\n",
    "\n",
    "tfidf_vect = TfidfVectorizer(ngram_range=(1,2),vocabulary=None,max_features=None)\n",
    "text = [' '.join(sentence) for sentence in df1.text]\n",
    "X_tfidf_title=tfidf_vect.fit_transform(text)\n",
    "\n",
    "text2 = [' '.join(sentence) for sentence in df2.text]\n",
    "X_tfidf_title2=tfidf_vect.transform(text2)\n",
    "\n",
    "\n",
    "\n"
   ]
  },
  {
   "cell_type": "code",
   "execution_count": 21,
   "id": "bac3ee18",
   "metadata": {
    "execution": {
     "iopub.execute_input": "2023-01-22T11:57:25.580347Z",
     "iopub.status.busy": "2023-01-22T11:57:25.579904Z",
     "iopub.status.idle": "2023-01-22T11:57:25.586562Z",
     "shell.execute_reply": "2023-01-22T11:57:25.585405Z"
    },
    "papermill": {
     "duration": 0.017951,
     "end_time": "2023-01-22T11:57:25.588973",
     "exception": false,
     "start_time": "2023-01-22T11:57:25.571022",
     "status": "completed"
    },
    "tags": []
   },
   "outputs": [
    {
     "data": {
      "text/plain": [
       "(43785, 2710007)"
      ]
     },
     "execution_count": 21,
     "metadata": {},
     "output_type": "execute_result"
    }
   ],
   "source": [
    "X_tfidf_title2.shape"
   ]
  },
  {
   "cell_type": "code",
   "execution_count": 22,
   "id": "3ec2f823",
   "metadata": {
    "execution": {
     "iopub.execute_input": "2023-01-22T11:57:25.605545Z",
     "iopub.status.busy": "2023-01-22T11:57:25.605172Z",
     "iopub.status.idle": "2023-01-22T11:57:25.611812Z",
     "shell.execute_reply": "2023-01-22T11:57:25.610630Z"
    },
    "papermill": {
     "duration": 0.017885,
     "end_time": "2023-01-22T11:57:25.614322",
     "exception": false,
     "start_time": "2023-01-22T11:57:25.596437",
     "status": "completed"
    },
    "tags": []
   },
   "outputs": [],
   "source": [
    "from sklearn.metrics import f1_score\n",
    "def print_score(y_pred, clf):\n",
    "    print(\"Clf: \", clf.__class__.__name__)\n",
    "    print(\"F1 score: {}\".format(f1_score(y_pred,y2,zero_division='warn',average=\"weighted\")))\n",
    "    y_pred=le.inverse_transform(y_pred)\n",
    "    print(y_pred)\n",
    "    print(\"---\")    "
   ]
  },
  {
   "cell_type": "code",
   "execution_count": 23,
   "id": "7bc9214a",
   "metadata": {
    "execution": {
     "iopub.execute_input": "2023-01-22T11:57:25.630776Z",
     "iopub.status.busy": "2023-01-22T11:57:25.630369Z",
     "iopub.status.idle": "2023-01-22T11:57:56.152635Z",
     "shell.execute_reply": "2023-01-22T11:57:56.151395Z"
    },
    "papermill": {
     "duration": 30.540342,
     "end_time": "2023-01-22T11:57:56.162113",
     "exception": false,
     "start_time": "2023-01-22T11:57:25.621771",
     "status": "completed"
    },
    "tags": []
   },
   "outputs": [
    {
     "name": "stdout",
     "output_type": "stream",
     "text": [
      "Clf:  SGDClassifier\n",
      "F1 score: 0.6805258339266208\n",
      "['cs' 'cond-mat' 'cs' ... 'cs' 'cs' 'cs']\n",
      "---\n"
     ]
    }
   ],
   "source": [
    "from sklearn.linear_model import SGDClassifier\n",
    "\n",
    "from sklearn.multiclass import OneVsRestClassifier\n",
    "sgd = SGDClassifier(loss='hinge', penalty='l2', alpha=1e-3, random_state=42, max_iter=6, tol=None)\n",
    "\n",
    "for classifier in [ sgd]:\n",
    "    clf = OneVsRestClassifier(classifier)\n",
    "    clf.fit(X_tfidf_title, y)\n",
    "    y_pred = clf.predict(X_tfidf_title2)\n",
    "    print_score(y_pred, classifier)\n",
    " \n",
    "\n",
    "    \n",
    "    \n",
    "    \n"
   ]
  },
  {
   "cell_type": "markdown",
   "id": "1c9baf52",
   "metadata": {
    "papermill": {
     "duration": 0.007521,
     "end_time": "2023-01-22T11:57:56.178024",
     "exception": false,
     "start_time": "2023-01-22T11:57:56.170503",
     "status": "completed"
    },
    "tags": []
   },
   "source": []
  },
  {
   "cell_type": "code",
   "execution_count": 24,
   "id": "674e376b",
   "metadata": {
    "execution": {
     "iopub.execute_input": "2023-01-22T11:57:56.195609Z",
     "iopub.status.busy": "2023-01-22T11:57:56.194455Z",
     "iopub.status.idle": "2023-01-22T11:57:56.252154Z",
     "shell.execute_reply": "2023-01-22T11:57:56.250891Z"
    },
    "papermill": {
     "duration": 0.069299,
     "end_time": "2023-01-22T11:57:56.254837",
     "exception": false,
     "start_time": "2023-01-22T11:57:56.185538",
     "status": "completed"
    },
    "tags": []
   },
   "outputs": [],
   "source": [
    "\n",
    "\n",
    "# Create a dataframe with the test data and the predictions\n",
    "submission = pd.DataFrame({'Id': df2['id'], 'Prediction': y_pred})\n",
    "\n",
    "# Write the dataframe to a CSV file\n",
    "submission.to_csv('submission.csv', index=False)\n"
   ]
  }
 ],
 "metadata": {
  "kernelspec": {
   "display_name": "Python 3",
   "language": "python",
   "name": "python3"
  },
  "language_info": {
   "codemirror_mode": {
    "name": "ipython",
    "version": 3
   },
   "file_extension": ".py",
   "mimetype": "text/x-python",
   "name": "python",
   "nbconvert_exporter": "python",
   "pygments_lexer": "ipython3",
   "version": "3.11.1 (tags/v3.11.1:a7a450f, Dec  6 2022, 19:58:39) [MSC v.1934 64 bit (AMD64)]"
  },
  "papermill": {
   "default_parameters": {},
   "duration": 879.884347,
   "end_time": "2023-01-22T11:57:59.086310",
   "environment_variables": {},
   "exception": null,
   "input_path": "__notebook__.ipynb",
   "output_path": "__notebook__.ipynb",
   "parameters": {},
   "start_time": "2023-01-22T11:43:19.201963",
   "version": "2.3.4"
  },
  "vscode": {
   "interpreter": {
    "hash": "c3eaa7ce353c4b3090c630205e451cd84d38ffe05b24ccdf056087bdb0ce61f1"
   }
  }
 },
 "nbformat": 4,
 "nbformat_minor": 5
}
